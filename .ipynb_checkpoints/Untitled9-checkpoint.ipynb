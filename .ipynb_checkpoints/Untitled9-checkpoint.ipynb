{
 "cells": [
  {
   "cell_type": "markdown",
   "id": "9ec57586-825a-4d3e-83ba-d2fe9e329044",
   "metadata": {
    "jp-MarkdownHeadingCollapsed": true,
    "tags": []
   },
   "source": [
    "# score_list = []; # do not forget to declare a list\n",
    "for _ in range(int(input())):\n",
    "    name = str(input())\n",
    "    score = float(input())\n",
    "    score_list.append([name, score])\n",
    "second_highest = sorted(set([score for name, score in score_list]))[]\n",
    "print(second_highest)\n",
    "print((sorted([name for name, score in score_list if score == second_highest])))"
   ]
  },
  {
   "cell_type": "code",
   "execution_count": null,
   "id": "a72cb489-1f62-48ba-9129-97a89ed57d42",
   "metadata": {},
   "outputs": [],
   "source": []
  }
 ],
 "metadata": {
  "kernelspec": {
   "display_name": "Python 3 (ipykernel)",
   "language": "python",
   "name": "python3"
  },
  "language_info": {
   "codemirror_mode": {
    "name": "ipython",
    "version": 3
   },
   "file_extension": ".py",
   "mimetype": "text/x-python",
   "name": "python",
   "nbconvert_exporter": "python",
   "pygments_lexer": "ipython3",
   "version": "3.9.7"
  }
 },
 "nbformat": 4,
 "nbformat_minor": 5
}
